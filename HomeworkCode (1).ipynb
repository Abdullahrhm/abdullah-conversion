{
  "metadata": {
    "kernelspec": {
      "name": "python",
      "display_name": "Python (Pyodide)",
      "language": "python"
    },
    "language_info": {
      "codemirror_mode": {
        "name": "python",
        "version": 3
      },
      "file_extension": ".py",
      "mimetype": "text/x-python",
      "name": "python",
      "nbconvert_exporter": "python",
      "pygments_lexer": "ipython3",
      "version": "3.8"
    }
  },
  "nbformat_minor": 5,
  "nbformat": 4,
  "cells": [
    {
      "id": "91a76672-44ba-41da-b73e-31b66a964528",
      "cell_type": "code",
      "source": "import pandas as pd\n\n# Load the CSV file\nhotels = pd.read_csv(\"hotels_modified.csv\")\n\n# Show the first few rows\nhotels.head()\n",
      "metadata": {
        "trusted": true
      },
      "outputs": [
        {
          "execution_count": 1,
          "output_type": "execute_result",
          "data": {
            "text/plain": "   hotel_id       city              hotel_name  star_rating  rooms  year_built\n0         1     Vienna    Classic Hotel Vienna            3    191        1987\n1         3       Linz        Grand Hotel Linz            5    177        1966\n2         5       Graz        Grand Hotel Graz            5     49        1934\n3         6  Innsbruck  Palace Hotel Innsbruck            3    185        1938\n4         7     Vienna   Imperial Hotel Vienna            3    212        1996",
            "text/html": "<div>\n<style scoped>\n    .dataframe tbody tr th:only-of-type {\n        vertical-align: middle;\n    }\n\n    .dataframe tbody tr th {\n        vertical-align: top;\n    }\n\n    .dataframe thead th {\n        text-align: right;\n    }\n</style>\n<table border=\"1\" class=\"dataframe\">\n  <thead>\n    <tr style=\"text-align: right;\">\n      <th></th>\n      <th>hotel_id</th>\n      <th>city</th>\n      <th>hotel_name</th>\n      <th>star_rating</th>\n      <th>rooms</th>\n      <th>year_built</th>\n    </tr>\n  </thead>\n  <tbody>\n    <tr>\n      <th>0</th>\n      <td>1</td>\n      <td>Vienna</td>\n      <td>Classic Hotel Vienna</td>\n      <td>3</td>\n      <td>191</td>\n      <td>1987</td>\n    </tr>\n    <tr>\n      <th>1</th>\n      <td>3</td>\n      <td>Linz</td>\n      <td>Grand Hotel Linz</td>\n      <td>5</td>\n      <td>177</td>\n      <td>1966</td>\n    </tr>\n    <tr>\n      <th>2</th>\n      <td>5</td>\n      <td>Graz</td>\n      <td>Grand Hotel Graz</td>\n      <td>5</td>\n      <td>49</td>\n      <td>1934</td>\n    </tr>\n    <tr>\n      <th>3</th>\n      <td>6</td>\n      <td>Innsbruck</td>\n      <td>Palace Hotel Innsbruck</td>\n      <td>3</td>\n      <td>185</td>\n      <td>1938</td>\n    </tr>\n    <tr>\n      <th>4</th>\n      <td>7</td>\n      <td>Vienna</td>\n      <td>Imperial Hotel Vienna</td>\n      <td>3</td>\n      <td>212</td>\n      <td>1996</td>\n    </tr>\n  </tbody>\n</table>\n</div>"
          },
          "metadata": {}
        }
      ],
      "execution_count": 1
    },
    {
      "id": "d94a08f1-b536-49b4-a4b3-851d0ed6ece5",
      "cell_type": "code",
      "source": "# Show column names\nprint(hotels.columns)\n\n# Check number of rows and columns\nprint(hotels.shape)\n\n# Get summary of each column\nprint(hotels.info())\n\n# Describe numeric columns (e.g., ratings or prices if present)\nhotels.describe()\n",
      "metadata": {
        "trusted": true
      },
      "outputs": [
        {
          "name": "stdout",
          "output_type": "stream",
          "text": "Index(['hotel_id', 'city', 'hotel_name', 'star_rating', 'rooms', 'year_built'], dtype='object')\n(169, 6)\n<class 'pandas.core.frame.DataFrame'>\nRangeIndex: 169 entries, 0 to 168\nData columns (total 6 columns):\n #   Column       Non-Null Count  Dtype \n---  ------       --------------  ----- \n 0   hotel_id     169 non-null    int64 \n 1   city         169 non-null    object\n 2   hotel_name   169 non-null    object\n 3   star_rating  169 non-null    int64 \n 4   rooms        169 non-null    int64 \n 5   year_built   169 non-null    int64 \ndtypes: int64(4), object(2)\nmemory usage: 6.7+ KB\nNone\n"
        },
        {
          "execution_count": 2,
          "output_type": "execute_result",
          "data": {
            "text/plain": "         hotel_id  star_rating       rooms   year_built\ncount  169.000000   169.000000  169.000000   169.000000\nmean   103.502959     3.988166  138.029586  1961.792899\nstd     59.084798     0.794236   59.882467    34.170768\nmin      1.000000     3.000000   32.000000  1901.000000\n25%     53.000000     3.000000   87.000000  1936.000000\n50%    105.000000     4.000000  139.000000  1960.000000\n75%    153.000000     5.000000  191.000000  1993.000000\nmax    203.000000     5.000000  230.000000  2019.000000",
            "text/html": "<div>\n<style scoped>\n    .dataframe tbody tr th:only-of-type {\n        vertical-align: middle;\n    }\n\n    .dataframe tbody tr th {\n        vertical-align: top;\n    }\n\n    .dataframe thead th {\n        text-align: right;\n    }\n</style>\n<table border=\"1\" class=\"dataframe\">\n  <thead>\n    <tr style=\"text-align: right;\">\n      <th></th>\n      <th>hotel_id</th>\n      <th>star_rating</th>\n      <th>rooms</th>\n      <th>year_built</th>\n    </tr>\n  </thead>\n  <tbody>\n    <tr>\n      <th>count</th>\n      <td>169.000000</td>\n      <td>169.000000</td>\n      <td>169.000000</td>\n      <td>169.000000</td>\n    </tr>\n    <tr>\n      <th>mean</th>\n      <td>103.502959</td>\n      <td>3.988166</td>\n      <td>138.029586</td>\n      <td>1961.792899</td>\n    </tr>\n    <tr>\n      <th>std</th>\n      <td>59.084798</td>\n      <td>0.794236</td>\n      <td>59.882467</td>\n      <td>34.170768</td>\n    </tr>\n    <tr>\n      <th>min</th>\n      <td>1.000000</td>\n      <td>3.000000</td>\n      <td>32.000000</td>\n      <td>1901.000000</td>\n    </tr>\n    <tr>\n      <th>25%</th>\n      <td>53.000000</td>\n      <td>3.000000</td>\n      <td>87.000000</td>\n      <td>1936.000000</td>\n    </tr>\n    <tr>\n      <th>50%</th>\n      <td>105.000000</td>\n      <td>4.000000</td>\n      <td>139.000000</td>\n      <td>1960.000000</td>\n    </tr>\n    <tr>\n      <th>75%</th>\n      <td>153.000000</td>\n      <td>5.000000</td>\n      <td>191.000000</td>\n      <td>1993.000000</td>\n    </tr>\n    <tr>\n      <th>max</th>\n      <td>203.000000</td>\n      <td>5.000000</td>\n      <td>230.000000</td>\n      <td>2019.000000</td>\n    </tr>\n  </tbody>\n</table>\n</div>"
          },
          "metadata": {}
        }
      ],
      "execution_count": 2
    },
    {
      "id": "9b8dd115-69ca-445c-a628-0bdf768ee85d",
      "cell_type": "code",
      "source": "# Create a small hotel dataset\ntiny_hotels = pd.DataFrame({\n    \"hotel_id\": [1, 2, 3],\n    \"name\": [\"Hotel A\", \"Hotel B\", \"Hotel C\"],\n    \"city\": [\"Vienna\", \"Paris\", \"Berlin\"],\n    \"stars\": [4, 3, 5]\n})\n\ntiny_hotels\n",
      "metadata": {
        "trusted": true
      },
      "outputs": [
        {
          "execution_count": 3,
          "output_type": "execute_result",
          "data": {
            "text/plain": "   hotel_id     name    city  stars\n0         1  Hotel A  Vienna      4\n1         2  Hotel B   Paris      3\n2         3  Hotel C  Berlin      5",
            "text/html": "<div>\n<style scoped>\n    .dataframe tbody tr th:only-of-type {\n        vertical-align: middle;\n    }\n\n    .dataframe tbody tr th {\n        vertical-align: top;\n    }\n\n    .dataframe thead th {\n        text-align: right;\n    }\n</style>\n<table border=\"1\" class=\"dataframe\">\n  <thead>\n    <tr style=\"text-align: right;\">\n      <th></th>\n      <th>hotel_id</th>\n      <th>name</th>\n      <th>city</th>\n      <th>stars</th>\n    </tr>\n  </thead>\n  <tbody>\n    <tr>\n      <th>0</th>\n      <td>1</td>\n      <td>Hotel A</td>\n      <td>Vienna</td>\n      <td>4</td>\n    </tr>\n    <tr>\n      <th>1</th>\n      <td>2</td>\n      <td>Hotel B</td>\n      <td>Paris</td>\n      <td>3</td>\n    </tr>\n    <tr>\n      <th>2</th>\n      <td>3</td>\n      <td>Hotel C</td>\n      <td>Berlin</td>\n      <td>5</td>\n    </tr>\n  </tbody>\n</table>\n</div>"
          },
          "metadata": {}
        }
      ],
      "execution_count": 3
    },
    {
      "id": "0ea4927b-c06d-4a96-97a0-d90ae643c879",
      "cell_type": "code",
      "source": "import pandas as pd\n\n# Step 1: Load datasets\nhotels = pd.read_csv(\"hotels_modified.csv\")\nreviews = pd.read_csv(\"reviews_modified.csv\")\nhotel_amenities = pd.read_csv(\"hotel_amenities_modified.csv\")\n\n# Step 2: Count number of amenities per hotel\n# Each row in hotel_amenities is one hotel-amenity pair\namenity_counts = hotel_amenities.groupby(\"hotel_id\").size().reset_index(name=\"num_amenities\")\n\n# Step 3: Average review score per hotel\naverage_reviews = reviews.groupby(\"hotel_id\")[\"rating\"].mean().reset_index(name=\"avg_review_score\")\n\n# Step 4: Merge everything together\nmerged = hotels.merge(amenity_counts, on=\"hotel_id\", how=\"left\")\nmerged = merged.merge(average_reviews, on=\"hotel_id\", how=\"left\")\n\n# Step 5: Preview the result\nmerged.head()\n",
      "metadata": {
        "trusted": true
      },
      "outputs": [
        {
          "execution_count": 6,
          "output_type": "execute_result",
          "data": {
            "text/plain": "   hotel_id       city              hotel_name  star_rating  rooms  \\\n0         1     Vienna    Classic Hotel Vienna            3    191   \n1         3       Linz        Grand Hotel Linz            5    177   \n2         5       Graz        Grand Hotel Graz            5     49   \n3         6  Innsbruck  Palace Hotel Innsbruck            3    185   \n4         7     Vienna   Imperial Hotel Vienna            3    212   \n\n   year_built  num_amenities  avg_review_score  \n0        1987            3.0          3.075000  \n1        1966            6.0          4.080000  \n2        1934            6.0          3.925000  \n3        1938            3.0          3.188889  \n4        1996            3.0          3.300000  ",
            "text/html": "<div>\n<style scoped>\n    .dataframe tbody tr th:only-of-type {\n        vertical-align: middle;\n    }\n\n    .dataframe tbody tr th {\n        vertical-align: top;\n    }\n\n    .dataframe thead th {\n        text-align: right;\n    }\n</style>\n<table border=\"1\" class=\"dataframe\">\n  <thead>\n    <tr style=\"text-align: right;\">\n      <th></th>\n      <th>hotel_id</th>\n      <th>city</th>\n      <th>hotel_name</th>\n      <th>star_rating</th>\n      <th>rooms</th>\n      <th>year_built</th>\n      <th>num_amenities</th>\n      <th>avg_review_score</th>\n    </tr>\n  </thead>\n  <tbody>\n    <tr>\n      <th>0</th>\n      <td>1</td>\n      <td>Vienna</td>\n      <td>Classic Hotel Vienna</td>\n      <td>3</td>\n      <td>191</td>\n      <td>1987</td>\n      <td>3.0</td>\n      <td>3.075000</td>\n    </tr>\n    <tr>\n      <th>1</th>\n      <td>3</td>\n      <td>Linz</td>\n      <td>Grand Hotel Linz</td>\n      <td>5</td>\n      <td>177</td>\n      <td>1966</td>\n      <td>6.0</td>\n      <td>4.080000</td>\n    </tr>\n    <tr>\n      <th>2</th>\n      <td>5</td>\n      <td>Graz</td>\n      <td>Grand Hotel Graz</td>\n      <td>5</td>\n      <td>49</td>\n      <td>1934</td>\n      <td>6.0</td>\n      <td>3.925000</td>\n    </tr>\n    <tr>\n      <th>3</th>\n      <td>6</td>\n      <td>Innsbruck</td>\n      <td>Palace Hotel Innsbruck</td>\n      <td>3</td>\n      <td>185</td>\n      <td>1938</td>\n      <td>3.0</td>\n      <td>3.188889</td>\n    </tr>\n    <tr>\n      <th>4</th>\n      <td>7</td>\n      <td>Vienna</td>\n      <td>Imperial Hotel Vienna</td>\n      <td>3</td>\n      <td>212</td>\n      <td>1996</td>\n      <td>3.0</td>\n      <td>3.300000</td>\n    </tr>\n  </tbody>\n</table>\n</div>"
          },
          "metadata": {}
        }
      ],
      "execution_count": 6
    },
    {
      "id": "eb790f18-27e8-4462-9438-f4da8ac0b0fe",
      "cell_type": "code",
      "source": "print(reviews.columns)\n",
      "metadata": {
        "trusted": true
      },
      "outputs": [
        {
          "name": "stdout",
          "output_type": "stream",
          "text": "Index(['review_id', 'hotel_id', 'rating', 'review_date'], dtype='object')\n"
        }
      ],
      "execution_count": 5
    },
    {
      "id": "99862bb5-615f-4697-b2d4-cdfe5d854a40",
      "cell_type": "code",
      "source": "amenity_counts = hotel_amenities.groupby(\"hotel_id\").size().reset_index(name=\"num_amenities\")",
      "metadata": {
        "trusted": true
      },
      "outputs": [],
      "execution_count": 8
    },
    {
      "id": "da156b90-79ec-4ac9-a43c-987c48bfd09f",
      "cell_type": "code",
      "source": "hotel_amenities.head(10)",
      "metadata": {
        "trusted": true
      },
      "outputs": [
        {
          "execution_count": 9,
          "output_type": "execute_result",
          "data": {
            "text/plain": "   hotel_id  amenity_id\n0        84           7\n1        30           8\n2       183           7\n3        57           4\n4        94           2\n5       158           8\n6        35           6\n7        33          10\n8        12           8\n9        98           8",
            "text/html": "<div>\n<style scoped>\n    .dataframe tbody tr th:only-of-type {\n        vertical-align: middle;\n    }\n\n    .dataframe tbody tr th {\n        vertical-align: top;\n    }\n\n    .dataframe thead th {\n        text-align: right;\n    }\n</style>\n<table border=\"1\" class=\"dataframe\">\n  <thead>\n    <tr style=\"text-align: right;\">\n      <th></th>\n      <th>hotel_id</th>\n      <th>amenity_id</th>\n    </tr>\n  </thead>\n  <tbody>\n    <tr>\n      <th>0</th>\n      <td>84</td>\n      <td>7</td>\n    </tr>\n    <tr>\n      <th>1</th>\n      <td>30</td>\n      <td>8</td>\n    </tr>\n    <tr>\n      <th>2</th>\n      <td>183</td>\n      <td>7</td>\n    </tr>\n    <tr>\n      <th>3</th>\n      <td>57</td>\n      <td>4</td>\n    </tr>\n    <tr>\n      <th>4</th>\n      <td>94</td>\n      <td>2</td>\n    </tr>\n    <tr>\n      <th>5</th>\n      <td>158</td>\n      <td>8</td>\n    </tr>\n    <tr>\n      <th>6</th>\n      <td>35</td>\n      <td>6</td>\n    </tr>\n    <tr>\n      <th>7</th>\n      <td>33</td>\n      <td>10</td>\n    </tr>\n    <tr>\n      <th>8</th>\n      <td>12</td>\n      <td>8</td>\n    </tr>\n    <tr>\n      <th>9</th>\n      <td>98</td>\n      <td>8</td>\n    </tr>\n  </tbody>\n</table>\n</div>"
          },
          "metadata": {}
        }
      ],
      "execution_count": 9
    },
    {
      "id": "65cd3e53-348a-4b19-97ef-8ef3cf314053",
      "cell_type": "code",
      "source": "# Load the amenities lookup table\namenities = pd.read_csv(\"amenities.csv\")\n\n# Merge to get the names\nhotel_amenities_named = hotel_amenities.merge(amenities, on=\"amenity_id\", how=\"left\")\n\n# Preview\nhotel_amenities_named.head()\n",
      "metadata": {
        "trusted": true
      },
      "outputs": [
        {
          "execution_count": 10,
          "output_type": "execute_result",
          "data": {
            "text/plain": "   hotel_id  amenity_id      amenity_name\n0        84           7         Free WiFi\n1        30           8  Conference Rooms\n2       183           7         Free WiFi\n3        57           4        Restaurant\n4        94           2               Spa",
            "text/html": "<div>\n<style scoped>\n    .dataframe tbody tr th:only-of-type {\n        vertical-align: middle;\n    }\n\n    .dataframe tbody tr th {\n        vertical-align: top;\n    }\n\n    .dataframe thead th {\n        text-align: right;\n    }\n</style>\n<table border=\"1\" class=\"dataframe\">\n  <thead>\n    <tr style=\"text-align: right;\">\n      <th></th>\n      <th>hotel_id</th>\n      <th>amenity_id</th>\n      <th>amenity_name</th>\n    </tr>\n  </thead>\n  <tbody>\n    <tr>\n      <th>0</th>\n      <td>84</td>\n      <td>7</td>\n      <td>Free WiFi</td>\n    </tr>\n    <tr>\n      <th>1</th>\n      <td>30</td>\n      <td>8</td>\n      <td>Conference Rooms</td>\n    </tr>\n    <tr>\n      <th>2</th>\n      <td>183</td>\n      <td>7</td>\n      <td>Free WiFi</td>\n    </tr>\n    <tr>\n      <th>3</th>\n      <td>57</td>\n      <td>4</td>\n      <td>Restaurant</td>\n    </tr>\n    <tr>\n      <th>4</th>\n      <td>94</td>\n      <td>2</td>\n      <td>Spa</td>\n    </tr>\n  </tbody>\n</table>\n</div>"
          },
          "metadata": {}
        }
      ],
      "execution_count": 10
    },
    {
      "id": "66f07fbe-2b5e-417f-8e17-ca828effebde",
      "cell_type": "markdown",
      "source": "import pandas as pd\n\n# Load datasets\nhotels = pd.read_csv(\"hotels_modified.csv\")\nreviews = pd.read_csv(\"reviews_modified.csv\")\nhotel_amenities = pd.read_csv(\"hotel_amenities_modified.csv\")\n\n# Optional: clean column names just in case\nhotels.columns = hotels.columns.str.strip()\nreviews.columns = reviews.columns.str.strip()\nhotel_amenities.columns = hotel_amenities.columns.str.strip()\n",
      "metadata": {}
    },
    {
      "id": "c6b36a10-5b0d-499d-9946-104bca05079c",
      "cell_type": "markdown",
      "source": "amenity_counts = hotel_amenities.groupby(\"hotel_id\").size().reset_index(name=\"num_amenities\")",
      "metadata": {}
    },
    {
      "id": "92588fe0-6d21-443e-a3f8-42fd9d943714",
      "cell_type": "code",
      "source": "print(reviews.columns)",
      "metadata": {
        "trusted": true
      },
      "outputs": [
        {
          "name": "stdout",
          "output_type": "stream",
          "text": "Index(['review_id', 'hotel_id', 'rating', 'review_date'], dtype='object')\n"
        }
      ],
      "execution_count": 13
    },
    {
      "id": "5789c2d0-0675-4e2c-928e-a4a8f60d91f6",
      "cell_type": "code",
      "source": "average_reviews = reviews.groupby(\"hotel_id\")[\"rating\"].mean().reset_index(name=\"avg_rating\")\n",
      "metadata": {
        "trusted": true
      },
      "outputs": [],
      "execution_count": 14
    },
    {
      "id": "168de511-1021-4ddc-b4f6-510286208724",
      "cell_type": "code",
      "source": "# Merge all info together\nmerged = hotels.merge(amenity_counts, on=\"hotel_id\", how=\"left\")\nmerged = merged.merge(average_reviews, on=\"hotel_id\", how=\"left\")\n\n# Drop rows with no review score or amenity info\nmerged = merged.dropna(subset=[\"num_amenities\", \"avg_rating\"])\n\n# Preview\nmerged.head(10)  # show more rows this time!\n",
      "metadata": {
        "trusted": true
      },
      "outputs": [
        {
          "execution_count": 16,
          "output_type": "execute_result",
          "data": {
            "text/plain": "   hotel_id       city                hotel_name  star_rating  rooms  \\\n0         1     Vienna      Classic Hotel Vienna            3    191   \n1         3       Linz          Grand Hotel Linz            5    177   \n2         5       Graz          Grand Hotel Graz            5     49   \n3         6  Innsbruck    Palace Hotel Innsbruck            3    185   \n4         7     Vienna     Imperial Hotel Vienna            3    212   \n5         8  Innsbruck  Premium Suites Innsbruck            5    139   \n6         9     Vienna         Park Hotel Vienna            3    126   \n7        10     Vienna       Resort & Spa Vienna            4    213   \n8        14       Linz         Family Hotel Linz            3    127   \n9        15  Innsbruck    Resort & Spa Innsbruck            5     91   \n\n   year_built  num_amenities  avg_rating  \n0        1987            3.0    3.075000  \n1        1966            6.0    4.080000  \n2        1934            6.0    3.925000  \n3        1938            3.0    3.188889  \n4        1996            3.0    3.300000  \n5        1959            6.0    3.927273  \n6        2019            3.0    2.783333  \n7        1936            5.0    3.650000  \n8        1990            2.0    2.925000  \n9        1907            6.0    4.150000  ",
            "text/html": "<div>\n<style scoped>\n    .dataframe tbody tr th:only-of-type {\n        vertical-align: middle;\n    }\n\n    .dataframe tbody tr th {\n        vertical-align: top;\n    }\n\n    .dataframe thead th {\n        text-align: right;\n    }\n</style>\n<table border=\"1\" class=\"dataframe\">\n  <thead>\n    <tr style=\"text-align: right;\">\n      <th></th>\n      <th>hotel_id</th>\n      <th>city</th>\n      <th>hotel_name</th>\n      <th>star_rating</th>\n      <th>rooms</th>\n      <th>year_built</th>\n      <th>num_amenities</th>\n      <th>avg_rating</th>\n    </tr>\n  </thead>\n  <tbody>\n    <tr>\n      <th>0</th>\n      <td>1</td>\n      <td>Vienna</td>\n      <td>Classic Hotel Vienna</td>\n      <td>3</td>\n      <td>191</td>\n      <td>1987</td>\n      <td>3.0</td>\n      <td>3.075000</td>\n    </tr>\n    <tr>\n      <th>1</th>\n      <td>3</td>\n      <td>Linz</td>\n      <td>Grand Hotel Linz</td>\n      <td>5</td>\n      <td>177</td>\n      <td>1966</td>\n      <td>6.0</td>\n      <td>4.080000</td>\n    </tr>\n    <tr>\n      <th>2</th>\n      <td>5</td>\n      <td>Graz</td>\n      <td>Grand Hotel Graz</td>\n      <td>5</td>\n      <td>49</td>\n      <td>1934</td>\n      <td>6.0</td>\n      <td>3.925000</td>\n    </tr>\n    <tr>\n      <th>3</th>\n      <td>6</td>\n      <td>Innsbruck</td>\n      <td>Palace Hotel Innsbruck</td>\n      <td>3</td>\n      <td>185</td>\n      <td>1938</td>\n      <td>3.0</td>\n      <td>3.188889</td>\n    </tr>\n    <tr>\n      <th>4</th>\n      <td>7</td>\n      <td>Vienna</td>\n      <td>Imperial Hotel Vienna</td>\n      <td>3</td>\n      <td>212</td>\n      <td>1996</td>\n      <td>3.0</td>\n      <td>3.300000</td>\n    </tr>\n    <tr>\n      <th>5</th>\n      <td>8</td>\n      <td>Innsbruck</td>\n      <td>Premium Suites Innsbruck</td>\n      <td>5</td>\n      <td>139</td>\n      <td>1959</td>\n      <td>6.0</td>\n      <td>3.927273</td>\n    </tr>\n    <tr>\n      <th>6</th>\n      <td>9</td>\n      <td>Vienna</td>\n      <td>Park Hotel Vienna</td>\n      <td>3</td>\n      <td>126</td>\n      <td>2019</td>\n      <td>3.0</td>\n      <td>2.783333</td>\n    </tr>\n    <tr>\n      <th>7</th>\n      <td>10</td>\n      <td>Vienna</td>\n      <td>Resort &amp; Spa Vienna</td>\n      <td>4</td>\n      <td>213</td>\n      <td>1936</td>\n      <td>5.0</td>\n      <td>3.650000</td>\n    </tr>\n    <tr>\n      <th>8</th>\n      <td>14</td>\n      <td>Linz</td>\n      <td>Family Hotel Linz</td>\n      <td>3</td>\n      <td>127</td>\n      <td>1990</td>\n      <td>2.0</td>\n      <td>2.925000</td>\n    </tr>\n    <tr>\n      <th>9</th>\n      <td>15</td>\n      <td>Innsbruck</td>\n      <td>Resort &amp; Spa Innsbruck</td>\n      <td>5</td>\n      <td>91</td>\n      <td>1907</td>\n      <td>6.0</td>\n      <td>4.150000</td>\n    </tr>\n  </tbody>\n</table>\n</div>"
          },
          "metadata": {}
        }
      ],
      "execution_count": 16
    },
    {
      "id": "301e0496-ee5f-4626-884b-ce7662f7f45d",
      "cell_type": "code",
      "source": "# Create groups based on number of amenities\nmerged[\"amenity_group\"] = pd.cut(\n    merged[\"num_amenities\"],\n    bins=[0, 3, 6, 10, 20],\n    labels=[\"0-3\", \"4-6\", \"7-10\", \"11-20\"]\n)\n\n# Group by amenity group\ngrouped = merged.groupby(\"amenity_group\")[\"avg_rating\"].mean().reset_index()\nprint(grouped)\n",
      "metadata": {
        "trusted": true
      },
      "outputs": [
        {
          "name": "stderr",
          "output_type": "stream",
          "text": "<ipython-input-17-f5c9d02f44df>:9: FutureWarning: The default of observed=False is deprecated and will be changed to True in a future version of pandas. Pass observed=False to retain current behavior or observed=True to adopt the future default and silence this warning.\n  grouped = merged.groupby(\"amenity_group\")[\"avg_rating\"].mean().reset_index()\n"
        },
        {
          "name": "stdout",
          "output_type": "stream",
          "text": "  amenity_group  avg_rating\n0           0-3    3.204890\n1           4-6    3.539485\n2          7-10    3.923505\n3         11-20         NaN\n"
        }
      ],
      "execution_count": 17
    },
    {
      "id": "72a00e0f-4bb5-40e4-b0d6-7106632b02b4",
      "cell_type": "code",
      "source": "import seaborn as sns\nimport matplotlib.pyplot as plt\n\nsns.barplot(x=\"amenity_group\", y=\"avg_rating\", data=grouped)\nplt.title(\"Average Review Rating by Number of Amenities\")\nplt.xlabel(\"Number of Amenities\")\nplt.ylabel(\"Avg Review Rating\")\nplt.show()",
      "metadata": {
        "trusted": true
      },
      "outputs": [
        {
          "ename": "<class 'ModuleNotFoundError'>",
          "evalue": "No module named 'seaborn'",
          "traceback": [
            "\u001b[0;31m---------------------------------------------------------------------------\u001b[0m",
            "\u001b[0;31mModuleNotFoundError\u001b[0m                       Traceback (most recent call last)",
            "Cell \u001b[0;32mIn[18], line 1\u001b[0m\n\u001b[0;32m----> 1\u001b[0m \u001b[38;5;28;01mimport\u001b[39;00m \u001b[38;5;21;01mseaborn\u001b[39;00m \u001b[38;5;28;01mas\u001b[39;00m \u001b[38;5;21;01msns\u001b[39;00m\n\u001b[1;32m      2\u001b[0m \u001b[38;5;28;01mimport\u001b[39;00m \u001b[38;5;21;01mmatplotlib\u001b[39;00m\u001b[38;5;21;01m.\u001b[39;00m\u001b[38;5;21;01mpyplot\u001b[39;00m \u001b[38;5;28;01mas\u001b[39;00m \u001b[38;5;21;01mplt\u001b[39;00m\n\u001b[1;32m      4\u001b[0m sns\u001b[38;5;241m.\u001b[39mbarplot(x\u001b[38;5;241m=\u001b[39m\u001b[38;5;124m\"\u001b[39m\u001b[38;5;124mamenity_group\u001b[39m\u001b[38;5;124m\"\u001b[39m, y\u001b[38;5;241m=\u001b[39m\u001b[38;5;124m\"\u001b[39m\u001b[38;5;124mavg_rating\u001b[39m\u001b[38;5;124m\"\u001b[39m, data\u001b[38;5;241m=\u001b[39mgrouped)\n",
            "\u001b[0;31mModuleNotFoundError\u001b[0m: No module named 'seaborn'"
          ],
          "output_type": "error"
        }
      ],
      "execution_count": 18
    },
    {
      "id": "329e588a-ae18-414e-9037-e6cb7d9fbfbc",
      "cell_type": "code",
      "source": "!pip install seaborn",
      "metadata": {
        "trusted": true
      },
      "outputs": [
        {
          "ename": "<class 'OSError'>",
          "evalue": "Not available",
          "traceback": [
            "\u001b[0;31m---------------------------------------------------------------------------\u001b[0m",
            "\u001b[0;31mOSError\u001b[0m                                   Traceback (most recent call last)",
            "Cell \u001b[0;32mIn[19], line 1\u001b[0m\n\u001b[0;32m----> 1\u001b[0m \u001b[43mget_ipython\u001b[49m\u001b[43m(\u001b[49m\u001b[43m)\u001b[49m\u001b[38;5;241;43m.\u001b[39;49m\u001b[43msystem\u001b[49m\u001b[43m(\u001b[49m\u001b[38;5;124;43m'\u001b[39;49m\u001b[38;5;124;43mpip install seaborn\u001b[39;49m\u001b[38;5;124;43m'\u001b[39;49m\u001b[43m)\u001b[49m\n",
            "File \u001b[0;32m/lib/python3.12/site-packages/IPython/core/interactiveshell.py:2653\u001b[0m, in \u001b[0;36mInteractiveShell.system_piped\u001b[0;34m(self, cmd)\u001b[0m\n\u001b[1;32m   2648\u001b[0m     \u001b[38;5;28;01mraise\u001b[39;00m \u001b[38;5;167;01mOSError\u001b[39;00m(\u001b[38;5;124m\"\u001b[39m\u001b[38;5;124mBackground processes not supported.\u001b[39m\u001b[38;5;124m\"\u001b[39m)\n\u001b[1;32m   2650\u001b[0m \u001b[38;5;66;03m# we explicitly do NOT return the subprocess status code, because\u001b[39;00m\n\u001b[1;32m   2651\u001b[0m \u001b[38;5;66;03m# a non-None value would trigger :func:`sys.displayhook` calls.\u001b[39;00m\n\u001b[1;32m   2652\u001b[0m \u001b[38;5;66;03m# Instead, we store the exit_code in user_ns.\u001b[39;00m\n\u001b[0;32m-> 2653\u001b[0m \u001b[38;5;28mself\u001b[39m\u001b[38;5;241m.\u001b[39muser_ns[\u001b[38;5;124m'\u001b[39m\u001b[38;5;124m_exit_code\u001b[39m\u001b[38;5;124m'\u001b[39m] \u001b[38;5;241m=\u001b[39m \u001b[43msystem\u001b[49m\u001b[43m(\u001b[49m\u001b[38;5;28;43mself\u001b[39;49m\u001b[38;5;241;43m.\u001b[39;49m\u001b[43mvar_expand\u001b[49m\u001b[43m(\u001b[49m\u001b[43mcmd\u001b[49m\u001b[43m,\u001b[49m\u001b[43m \u001b[49m\u001b[43mdepth\u001b[49m\u001b[38;5;241;43m=\u001b[39;49m\u001b[38;5;241;43m1\u001b[39;49m\u001b[43m)\u001b[49m\u001b[43m)\u001b[49m\n",
            "File \u001b[0;32m/lib/python3.12/site-packages/IPython/utils/_process_emscripten.py:11\u001b[0m, in \u001b[0;36msystem\u001b[0;34m(cmd)\u001b[0m\n\u001b[1;32m     10\u001b[0m \u001b[38;5;28;01mdef\u001b[39;00m \u001b[38;5;21msystem\u001b[39m(cmd):\n\u001b[0;32m---> 11\u001b[0m     \u001b[38;5;28;01mraise\u001b[39;00m \u001b[38;5;167;01mOSError\u001b[39;00m(\u001b[38;5;124m\"\u001b[39m\u001b[38;5;124mNot available\u001b[39m\u001b[38;5;124m\"\u001b[39m)\n",
            "\u001b[0;31mOSError\u001b[0m: Not available"
          ],
          "output_type": "error"
        }
      ],
      "execution_count": 19
    },
    {
      "id": "c6a07a2c-8d04-4759-b3c8-ed408898fe8c",
      "cell_type": "code",
      "source": "import matplotlib.pyplot as plt\n\n# Create the bar plot manually\nx = grouped[\"amenity_group\"].astype(str)\ny = grouped[\"avg_rating\"]\n\nplt.bar(x, y, color=\"skyblue\")\nplt.title(\"Average Review Rating by Number of Amenities\")\nplt.xlabel(\"Number of Amenities\")\nplt.ylabel(\"Avg Review Rating\")\nplt.ylim(0, 5)\nplt.grid(axis=\"y\", linestyle=\"--\", alpha=0.7)\nplt.show()\n",
      "metadata": {
        "trusted": true
      },
      "outputs": [
        {
          "name": "stderr",
          "output_type": "stream",
          "text": "Matplotlib is building the font cache; this may take a moment.\n"
        },
        {
          "output_type": "display_data",
          "data": {
            "text/plain": "<Figure size 640x480 with 1 Axes>",
            "image/png": "[encoded data removed]"
          },
          "metadata": {}
        }
      ],
      "execution_count": 20
    },
    {
      "id": "bd6609fa-3319-4edc-86b2-52fe441c4a9d",
      "cell_type": "code",
      "source": "",
      "metadata": {
        "trusted": true
      },
      "outputs": [
        {
          "ename": "<class 'KeyError'>",
          "evalue": "'avg_review_score'",
          "traceback": [
            "\u001b[0;31m---------------------------------------------------------------------------\u001b[0m",
            "\u001b[0;31mKeyError\u001b[0m                                  Traceback (most recent call last)",
            "File \u001b[0;32m/lib/python3.12/site-packages/pandas/core/indexes/base.py:3805\u001b[0m, in \u001b[0;36mIndex.get_loc\u001b[0;34m(self, key)\u001b[0m\n\u001b[1;32m   3804\u001b[0m \u001b[38;5;28;01mtry\u001b[39;00m:\n\u001b[0;32m-> 3805\u001b[0m     \u001b[38;5;28;01mreturn\u001b[39;00m \u001b[38;5;28;43mself\u001b[39;49m\u001b[38;5;241;43m.\u001b[39;49m\u001b[43m_engine\u001b[49m\u001b[38;5;241;43m.\u001b[39;49m\u001b[43mget_loc\u001b[49m\u001b[43m(\u001b[49m\u001b[43mcasted_key\u001b[49m\u001b[43m)\u001b[49m\n\u001b[1;32m   3806\u001b[0m \u001b[38;5;28;01mexcept\u001b[39;00m \u001b[38;5;167;01mKeyError\u001b[39;00m \u001b[38;5;28;01mas\u001b[39;00m err:\n",
            "File \u001b[0;32mindex.pyx:167\u001b[0m, in \u001b[0;36mpandas._libs.index.IndexEngine.get_loc\u001b[0;34m()\u001b[0m\n",
            "File \u001b[0;32mindex.pyx:196\u001b[0m, in \u001b[0;36mpandas._libs.index.IndexEngine.get_loc\u001b[0;34m()\u001b[0m\n",
            "File \u001b[0;32mpandas/_libs/hashtable_class_helper.pxi:7081\u001b[0m, in \u001b[0;36mpandas._libs.hashtable.PyObjectHashTable.get_item\u001b[0;34m()\u001b[0m\n",
            "File \u001b[0;32mpandas/_libs/hashtable_class_helper.pxi:7089\u001b[0m, in \u001b[0;36mpandas._libs.hashtable.PyObjectHashTable.get_item\u001b[0;34m()\u001b[0m\n",
            "\u001b[0;31mKeyError\u001b[0m: 'avg_review_score'",
            "\nThe above exception was the direct cause of the following exception:\n",
            "\u001b[0;31mKeyError\u001b[0m                                  Traceback (most recent call last)",
            "Cell \u001b[0;32mIn[24], line 2\u001b[0m\n\u001b[1;32m      1\u001b[0m X \u001b[38;5;241m=\u001b[39m merged[\u001b[38;5;124m\"\u001b[39m\u001b[38;5;124mnum_amenities\u001b[39m\u001b[38;5;124m\"\u001b[39m]\n\u001b[0;32m----> 2\u001b[0m y \u001b[38;5;241m=\u001b[39m \u001b[43mmerged\u001b[49m\u001b[43m[\u001b[49m\u001b[38;5;124;43m\"\u001b[39;49m\u001b[38;5;124;43mavg_review_score\u001b[39;49m\u001b[38;5;124;43m\"\u001b[39;49m\u001b[43m]\u001b[49m\n\u001b[1;32m      3\u001b[0m model \u001b[38;5;241m=\u001b[39m merged\u001b[38;5;241m.\u001b[39mOLS(y, X)\u001b[38;5;241m.\u001b[39mfit()\n",
            "File \u001b[0;32m/lib/python3.12/site-packages/pandas/core/frame.py:4102\u001b[0m, in \u001b[0;36mDataFrame.__getitem__\u001b[0;34m(self, key)\u001b[0m\n\u001b[1;32m   4100\u001b[0m \u001b[38;5;28;01mif\u001b[39;00m \u001b[38;5;28mself\u001b[39m\u001b[38;5;241m.\u001b[39mcolumns\u001b[38;5;241m.\u001b[39mnlevels \u001b[38;5;241m>\u001b[39m \u001b[38;5;241m1\u001b[39m:\n\u001b[1;32m   4101\u001b[0m     \u001b[38;5;28;01mreturn\u001b[39;00m \u001b[38;5;28mself\u001b[39m\u001b[38;5;241m.\u001b[39m_getitem_multilevel(key)\n\u001b[0;32m-> 4102\u001b[0m indexer \u001b[38;5;241m=\u001b[39m \u001b[38;5;28;43mself\u001b[39;49m\u001b[38;5;241;43m.\u001b[39;49m\u001b[43mcolumns\u001b[49m\u001b[38;5;241;43m.\u001b[39;49m\u001b[43mget_loc\u001b[49m\u001b[43m(\u001b[49m\u001b[43mkey\u001b[49m\u001b[43m)\u001b[49m\n\u001b[1;32m   4103\u001b[0m \u001b[38;5;28;01mif\u001b[39;00m is_integer(indexer):\n\u001b[1;32m   4104\u001b[0m     indexer \u001b[38;5;241m=\u001b[39m [indexer]\n",
            "File \u001b[0;32m/lib/python3.12/site-packages/pandas/core/indexes/base.py:3812\u001b[0m, in \u001b[0;36mIndex.get_loc\u001b[0;34m(self, key)\u001b[0m\n\u001b[1;32m   3807\u001b[0m     \u001b[38;5;28;01mif\u001b[39;00m \u001b[38;5;28misinstance\u001b[39m(casted_key, \u001b[38;5;28mslice\u001b[39m) \u001b[38;5;129;01mor\u001b[39;00m (\n\u001b[1;32m   3808\u001b[0m         \u001b[38;5;28misinstance\u001b[39m(casted_key, abc\u001b[38;5;241m.\u001b[39mIterable)\n\u001b[1;32m   3809\u001b[0m         \u001b[38;5;129;01mand\u001b[39;00m \u001b[38;5;28many\u001b[39m(\u001b[38;5;28misinstance\u001b[39m(x, \u001b[38;5;28mslice\u001b[39m) \u001b[38;5;28;01mfor\u001b[39;00m x \u001b[38;5;129;01min\u001b[39;00m casted_key)\n\u001b[1;32m   3810\u001b[0m     ):\n\u001b[1;32m   3811\u001b[0m         \u001b[38;5;28;01mraise\u001b[39;00m InvalidIndexError(key)\n\u001b[0;32m-> 3812\u001b[0m     \u001b[38;5;28;01mraise\u001b[39;00m \u001b[38;5;167;01mKeyError\u001b[39;00m(key) \u001b[38;5;28;01mfrom\u001b[39;00m \u001b[38;5;21;01merr\u001b[39;00m\n\u001b[1;32m   3813\u001b[0m \u001b[38;5;28;01mexcept\u001b[39;00m \u001b[38;5;167;01mTypeError\u001b[39;00m:\n\u001b[1;32m   3814\u001b[0m     \u001b[38;5;66;03m# If we have a listlike key, _check_indexing_error will raise\u001b[39;00m\n\u001b[1;32m   3815\u001b[0m     \u001b[38;5;66;03m#  InvalidIndexError. Otherwise we fall through and re-raise\u001b[39;00m\n\u001b[1;32m   3816\u001b[0m     \u001b[38;5;66;03m#  the TypeError.\u001b[39;00m\n\u001b[1;32m   3817\u001b[0m     \u001b[38;5;28mself\u001b[39m\u001b[38;5;241m.\u001b[39m_check_indexing_error(key)\n",
            "\u001b[0;31mKeyError\u001b[0m: 'avg_review_score'"
          ],
          "output_type": "error"
        }
      ],
      "execution_count": 24
    },
    {
      "id": "50fa1a2d-59bc-4645-9837-732e01c0243e",
      "cell_type": "code",
      "source": "import statsmodels.api as sm\n\n# Drop any missing values (very important)\nreg_data = merged.dropna(subset=[\"num_amenities\", \"avg_rating\"])\n\n# Define independent (X) and dependent (y) variables\nX = reg_data[\"num_amenities\"]\ny = reg_data[\"avg_rating\"]\n\n# Add constant (intercept) to X\nX = sm.add_constant(X)\n\n# Fit the model\nmodel = sm.OLS(y, X).fit()\n\n# Show the regression summary\nprint(model.summary())\n",
      "metadata": {
        "trusted": true
      },
      "outputs": [
        {
          "name": "stdout",
          "output_type": "stream",
          "text": "                            OLS Regression Results                            \n==============================================================================\nDep. Variable:             avg_rating   R-squared:                       0.412\nModel:                            OLS   Adj. R-squared:                  0.408\nMethod:                 Least Squares   F-statistic:                     97.34\nDate:                Sun, 23 Mar 2025   Prob (F-statistic):           9.91e-18\nTime:                        20:10:03   Log-Likelihood:                -43.731\nNo. Observations:                 141   AIC:                             91.46\nDf Residuals:                     139   BIC:                             97.36\nDf Model:                           1                                         \nCovariance Type:            nonrobust                                         \n=================================================================================\n                    coef    std err          t      P>|t|      [0.025      0.975]\n---------------------------------------------------------------------------------\nconst             2.7812      0.080     34.605      0.000       2.622       2.940\nnum_amenities     0.1544      0.016      9.866      0.000       0.123       0.185\n==============================================================================\nOmnibus:                        0.693   Durbin-Watson:                   2.112\nProb(Omnibus):                  0.707   Jarque-Bera (JB):                0.638\nSkew:                          -0.163   Prob(JB):                        0.727\nKurtosis:                       2.947   Cond. No.                         15.2\n==============================================================================\n\nNotes:\n[1] Standard Errors assume that the covariance matrix of the errors is correctly specified.\n"
        }
      ],
      "execution_count": 26
    },
    {
      "id": "7deae45b-6abf-4462-bad5-75ee46fc4e2d",
      "cell_type": "code",
      "source": "",
      "metadata": {
        "trusted": true
      },
      "outputs": [],
      "execution_count": null
    }
  ]
}